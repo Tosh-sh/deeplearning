{
 "cells": [
  {
   "cell_type": "code",
   "execution_count": 3,
   "metadata": {},
   "outputs": [
    {
     "name": "stdout",
     "output_type": "stream",
     "text": [
      "train acc, test acc | 0.09871666666666666, 0.098\n",
      "train acc, test acc | 0.7867333333333333, 0.7926\n",
      "train acc, test acc | 0.8784333333333333, 0.8837\n",
      "train acc, test acc | 0.8995333333333333, 0.9035\n",
      "train acc, test acc | 0.90775, 0.9113\n",
      "train acc, test acc | 0.9137833333333333, 0.9179\n",
      "train acc, test acc | 0.91925, 0.9225\n",
      "train acc, test acc | 0.9236333333333333, 0.9261\n",
      "train acc, test acc | 0.9260166666666667, 0.9276\n",
      "train acc, test acc | 0.9301666666666667, 0.9305\n",
      "train acc, test acc | 0.9332833333333334, 0.9332\n",
      "train acc, test acc | 0.9350833333333334, 0.9358\n",
      "train acc, test acc | 0.9386166666666667, 0.9391\n",
      "train acc, test acc | 0.9404833333333333, 0.9396\n",
      "train acc, test acc | 0.9422666666666667, 0.9428\n",
      "train acc, test acc | 0.9442166666666667, 0.9426\n",
      "train acc, test acc | 0.9458666666666666, 0.9448\n"
     ]
    },
    {
     "data": {
      "image/png": "[encoded data removed]",
      "text/plain": [
       "<Figure size 432x288 with 1 Axes>"
      ]
     },
     "metadata": {
      "needs_background": "light"
     },
     "output_type": "display_data"
    }
   ],
   "source": [
    "#mnistデータをニューラルネットワークの勾配降下法で学習する\n",
    "\n",
    "%matplotlib inline\n",
    "import sys, os\n",
    "sys.path.append(os.pardir)  # 親ディレクトリのファイルをインポートするための設定\n",
    "import numpy as np\n",
    "import matplotlib.pyplot as plt\n",
    "from dataset.mnist import load_mnist\n",
    "from two_layer_net import TwoLayerNet\n",
    "\n",
    "# データの読み込み\n",
    "(x_train, t_train), (x_test, t_test) = load_mnist(normalize=True, one_hot_label=True)\n",
    "\n",
    "#スクリプトで準備しているニューラルネットのクラスを呼び出す（隠れ層ー出力層）\n",
    "network = TwoLayerNet(input_size=784, hidden_size=50, output_size=10)\n",
    "\n",
    "#バッチの試行回数\n",
    "iters_num = 10000\n",
    "#訓練データの総数\n",
    "train_size = x_train.shape[0] #60,000\n",
    "#バッチサイズ\n",
    "batch_size = 100\n",
    "#学習率の設定\n",
    "learning_rate = 0.1\n",
    "\n",
    "#損失関数値のレコード\n",
    "train_loss_list = []\n",
    "#訓練精度のレコード\n",
    "train_acc_list = []\n",
    "#テスト精度のレコード\n",
    "test_acc_list = []\n",
    "\n",
    "#１エポックの訓練回数(ミニバッチ処理回数)\n",
    "iter_per_epoch = max(train_size / batch_size, 1)\n",
    "\n",
    "#ミニバッチによる学習を繰り返し試行する\n",
    "for i in range(iters_num):\n",
    "    batch_mask = np.random.choice(train_size, batch_size)\n",
    "    x_batch = x_train[batch_mask]\n",
    "    t_batch = t_train[batch_mask]\n",
    "    \n",
    "    # 勾配の計算（numerical_gradient：数値微分による勾配、gradient：解析微分による勾配）\n",
    "    #grad = network.numerical_gradient(x_batch, t_batch)\n",
    "    grad = network.gradient(x_batch, t_batch)\n",
    "    \n",
    "    # パラメータの更新（それぞれの重みとバイアスで実施）\n",
    "    for key in ('W1', 'b1', 'W2', 'b2'):\n",
    "        network.params[key] -= learning_rate * grad[key]\n",
    "    \n",
    "    loss = network.loss(x_batch, t_batch)\n",
    "    train_loss_list.append(loss)\n",
    "    \n",
    "    if i % iter_per_epoch == 0:\n",
    "        train_acc = network.accuracy(x_train, t_train)\n",
    "        test_acc = network.accuracy(x_test, t_test)\n",
    "        train_acc_list.append(train_acc)\n",
    "        test_acc_list.append(test_acc)\n",
    "        print(\"train acc, test acc | \" + str(train_acc) + \", \" + str(test_acc))\n",
    "\n",
    "# グラフの描画\n",
    "markers = {'train': 'o', 'test': 's'}\n",
    "x = np.arange(len(train_acc_list))\n",
    "plt.plot(x, train_acc_list, label='train acc')\n",
    "plt.plot(x, test_acc_list, label='test acc', linestyle='--')\n",
    "plt.xlabel(\"epochs\")\n",
    "plt.ylabel(\"accuracy\")\n",
    "plt.ylim(0, 1.0)\n",
    "plt.legend(loc='lower right')\n",
    "plt.show()\n"
   ]
  },
  {
   "cell_type": "code",
   "execution_count": null,
   "metadata": {},
   "outputs": [],
   "source": []
  }
 ],
 "metadata": {
  "kernelspec": {
   "display_name": "Python 3",
   "language": "python",
   "name": "python3"
  },
  "language_info": {
   "codemirror_mode": {
    "name": "ipython",
    "version": 3
   },
   "file_extension": ".py",
   "mimetype": "text/x-python",
   "name": "python",
   "nbconvert_exporter": "python",
   "pygments_lexer": "ipython3",
   "version": "3.5.4"
  }
 },
 "nbformat": 4,
 "nbformat_minor": 4
}
