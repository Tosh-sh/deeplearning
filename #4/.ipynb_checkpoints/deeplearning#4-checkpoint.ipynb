{
 "cells": [
  {
   "cell_type": "code",
   "execution_count": 8,
   "metadata": {},
   "outputs": [
    {
     "name": "stdout",
     "output_type": "stream",
     "text": [
      "a=\n",
      " [[0 1]\n",
      " [2 3]]\n",
      "b=\n",
      " [[1 2]\n",
      " [3 4]]\n",
      "c=\n",
      " [[ 3  4]\n",
      " [11 16]]\n"
     ]
    }
   ],
   "source": [
    "#行列の掛け算-1\n",
    "\n",
    "import numpy as np\n",
    "\n",
    "a = np.array([[0,1],[2,3]])\n",
    "b = np.array([[1,2],[3,4]])\n",
    "c = np.dot(a,b)\n",
    "\n",
    "print('a=\\n',a)\n",
    "print('b=\\n',b)\n",
    "print('c=\\n',c)"
   ]
  },
  {
   "cell_type": "code",
   "execution_count": 16,
   "metadata": {},
   "outputs": [
    {
     "name": "stdout",
     "output_type": "stream",
     "text": [
      "a=\n",
      " [1 2 3 4]\n",
      "b=\n",
      " [[1 2]\n",
      " [3 4]\n",
      " [5 6]\n",
      " [7 8]]\n",
      "c=\n",
      " [50 60]\n"
     ]
    }
   ],
   "source": [
    "#行列の掛け算-2\n",
    "\n",
    "import numpy as np\n",
    "\n",
    "a = np.array([1,2,3,4])\n",
    "b = np.array([[1,2],[3,4],[5,6],[7,8]])\n",
    "c = np.dot(a,b)\n",
    "\n",
    "print('a=\\n',a)\n",
    "print('b=\\n',b)\n",
    "print('c=\\n',c)"
   ]
  },
  {
   "cell_type": "code",
   "execution_count": 14,
   "metadata": {},
   "outputs": [
    {
     "ename": "ValueError",
     "evalue": "shapes (4,) and (2,4) not aligned: 4 (dim 0) != 2 (dim 0)",
     "output_type": "error",
     "traceback": [
      "\u001b[0;31m---------------------------------------------------------------------------\u001b[0m",
      "\u001b[0;31mValueError\u001b[0m                                Traceback (most recent call last)",
      "\u001b[0;32m<ipython-input-14-a98cb7ef74d6>\u001b[0m in \u001b[0;36m<module>\u001b[0;34m\u001b[0m\n\u001b[1;32m      5\u001b[0m \u001b[0ma\u001b[0m \u001b[0;34m=\u001b[0m \u001b[0mnp\u001b[0m\u001b[0;34m.\u001b[0m\u001b[0marray\u001b[0m\u001b[0;34m(\u001b[0m\u001b[0;34m[\u001b[0m\u001b[0;36m0\u001b[0m\u001b[0;34m,\u001b[0m\u001b[0;36m1\u001b[0m\u001b[0;34m,\u001b[0m\u001b[0;36m2\u001b[0m\u001b[0;34m,\u001b[0m\u001b[0;36m3\u001b[0m\u001b[0;34m]\u001b[0m\u001b[0;34m)\u001b[0m\u001b[0;34m\u001b[0m\u001b[0m\n\u001b[1;32m      6\u001b[0m \u001b[0mb\u001b[0m \u001b[0;34m=\u001b[0m \u001b[0mnp\u001b[0m\u001b[0;34m.\u001b[0m\u001b[0marray\u001b[0m\u001b[0;34m(\u001b[0m\u001b[0;34m[\u001b[0m\u001b[0;34m[\u001b[0m\u001b[0;36m1\u001b[0m\u001b[0;34m,\u001b[0m\u001b[0;36m2\u001b[0m\u001b[0;34m,\u001b[0m\u001b[0;36m3\u001b[0m\u001b[0;34m,\u001b[0m\u001b[0;36m4\u001b[0m\u001b[0;34m]\u001b[0m\u001b[0;34m,\u001b[0m\u001b[0;34m[\u001b[0m\u001b[0;36m1\u001b[0m\u001b[0;34m,\u001b[0m\u001b[0;36m2\u001b[0m\u001b[0;34m,\u001b[0m\u001b[0;36m3\u001b[0m\u001b[0;34m,\u001b[0m\u001b[0;36m4\u001b[0m\u001b[0;34m]\u001b[0m\u001b[0;34m]\u001b[0m\u001b[0;34m)\u001b[0m\u001b[0;34m\u001b[0m\u001b[0m\n\u001b[0;32m----> 7\u001b[0;31m \u001b[0mc\u001b[0m \u001b[0;34m=\u001b[0m \u001b[0mnp\u001b[0m\u001b[0;34m.\u001b[0m\u001b[0mdot\u001b[0m\u001b[0;34m(\u001b[0m\u001b[0ma\u001b[0m\u001b[0;34m,\u001b[0m\u001b[0mb\u001b[0m\u001b[0;34m)\u001b[0m\u001b[0;34m\u001b[0m\u001b[0m\n\u001b[0m\u001b[1;32m      8\u001b[0m \u001b[0;34m\u001b[0m\u001b[0m\n\u001b[1;32m      9\u001b[0m \u001b[0mprint\u001b[0m\u001b[0;34m(\u001b[0m\u001b[0;34m'a=\\n'\u001b[0m\u001b[0;34m,\u001b[0m\u001b[0ma\u001b[0m\u001b[0;34m)\u001b[0m\u001b[0;34m\u001b[0m\u001b[0m\n",
      "\u001b[0;32m<__array_function__ internals>\u001b[0m in \u001b[0;36mdot\u001b[0;34m(*args, **kwargs)\u001b[0m\n",
      "\u001b[0;31mValueError\u001b[0m: shapes (4,) and (2,4) not aligned: 4 (dim 0) != 2 (dim 0)"
     ]
    }
   ],
   "source": [
    "#行列の掛け算-エラー例\n",
    "\n",
    "import numpy as np\n",
    "\n",
    "a = np.array([0,1,2,3])\n",
    "b = np.array([[1,2,3,4],[1,2,3,4]])\n",
    "c = np.dot(a,b)\n"
   ]
  },
  {
   "cell_type": "code",
   "execution_count": 29,
   "metadata": {},
   "outputs": [
    {
     "name": "stdout",
     "output_type": "stream",
     "text": [
      "x=\n",
      " [1 2]\n",
      "y=\n",
      " [0.91524014 1.83048028]\n"
     ]
    }
   ],
   "source": [
    "#ニューラルネットワークの試作-1\n",
    "\n",
    "import numpy as np\n",
    "\n",
    "#活性化関数の定義\n",
    "def sigmoid(x):\n",
    "    return 1 / (1 + np.exp(-x))   \n",
    "\n",
    "#入力層（１層目）\n",
    "x = np.array([1,2])\n",
    "#隠れ層（２層目）\n",
    "w1 = np.array([[0.1,0.3,0.5],[0.1,0.3,0.5]])\n",
    "b1 = np.array([0,-0.8,-0.5])\n",
    "a1 = np.dot(x,w1) + b1\n",
    "z = sigmoid(a1)\n",
    "\n",
    "#出力層（３層目）\n",
    "w2 = np.array([[0.5,1],[0.5,1],[0.5,1]])\n",
    "b2 = np.array([0,0])\n",
    "y = np.dot(z,w2) + b2\n",
    "\n",
    "print('x=\\n',x)\n",
    "print('y=\\n',y)"
   ]
  },
  {
   "cell_type": "code",
   "execution_count": 96,
   "metadata": {},
   "outputs": [
    {
     "name": "stdout",
     "output_type": "stream",
     "text": [
      "x=\n",
      " [1 2]\n",
      "y=\n",
      " [0.28592874 0.71407126]\n"
     ]
    }
   ],
   "source": [
    "#ニューラルネットワークの試作-2(出力層の改良)\n",
    "\n",
    "import numpy as np\n",
    "\n",
    "#softmax関数の定義\n",
    "def softmax(a):\n",
    "    exp_a = np.exp(a)\n",
    "    sum_exp_a = np.sum(exp_a)\n",
    "    y = exp_a / sum_exp_a\n",
    "    return y\n",
    "\n",
    "#活性化関数の定義\n",
    "def sigmoid(x):\n",
    "    return 1 / (1 + np.exp(-x))\n",
    "\n",
    "#入力層（１層目）\n",
    "x = np.array([1,2])\n",
    "#隠れ層（２層目）\n",
    "w1 = np.array([[0.1,0.3,0.5],[0.1,0.3,0.5]])\n",
    "b1 = np.array([0,-0.8,-0.5])\n",
    "a1 = np.dot(x,w1) + b1\n",
    "z = sigmoid(a1)\n",
    "\n",
    "#出力層（３層目）\n",
    "w2 = np.array([[0.5,1],[0.5,1],[0.5,1]])\n",
    "b2 = np.array([0,0])\n",
    "a2 = np.dot(z,w2) + b2\n",
    "y = softmax(a2)\n",
    "\n",
    "print('x=\\n',x)\n",
    "print('y=\\n',y)"
   ]
  },
  {
   "cell_type": "code",
   "execution_count": null,
   "metadata": {},
   "outputs": [],
   "source": [
    "#softmax関数の改良（オーバーフローを回避する）\n",
    "def softmax(a):\n",
    "    c = np.max(a)\n",
    "    exp_a = np.exp(a - c)\n",
    "    sum_exp_a = np.sum(exp_a)\n",
    "    y = exp_a / sum_exp_a\n",
    "    return y"
   ]
  },
  {
   "cell_type": "code",
   "execution_count": 98,
   "metadata": {},
   "outputs": [],
   "source": [
    "#mnistの手書き画像を確認する\n",
    "import sys, os\n",
    "#親ディレクトリのパスを追加（datasetのフォルダにアクセスするため）\n",
    "sys.path.append(os.pardir)  \n",
    "import numpy as np\n",
    "from dataset.mnist import load_mnist\n",
    "from PIL import Image\n",
    "\n",
    "#mnistデータをダウンロードする\n",
    "(x_train, t_train), (x_test, t_test) = load_mnist(normalize=False, flatten=True, one_hot_label=False)\n",
    "\n",
    "#mnist訓練データの画像(0番目)を選択\n",
    "img = x_train[0]\n",
    "#1次元で画像データをダウンロードしているのでリシェイプする\n",
    "img = img.reshape(28, 28)\n",
    "\n",
    "#fromarrayで配列を画像化できる\n",
    "img = Image.fromarray(img)\n",
    "img.show()\n"
   ]
  },
  {
   "cell_type": "code",
   "execution_count": 1,
   "metadata": {},
   "outputs": [
    {
     "name": "stdout",
     "output_type": "stream",
     "text": [
      "Converting train-images-idx3-ubyte.gz to NumPy Array ...\n",
      "Done\n",
      "Converting train-labels-idx1-ubyte.gz to NumPy Array ...\n",
      "Done\n",
      "Converting t10k-images-idx3-ubyte.gz to NumPy Array ...\n",
      "Done\n",
      "Converting t10k-labels-idx1-ubyte.gz to NumPy Array ...\n",
      "Done\n",
      "Creating pickle file ...\n",
      "Done!\n",
      "Accuracy:0.9352\n"
     ]
    }
   ],
   "source": [
    "import sys, os\n",
    "sys.path.append(os.pardir) \n",
    "import numpy as np\n",
    "import pickle\n",
    "from dataset.mnist import load_mnist\n",
    "from common.functions import sigmoid, softmax\n",
    "\n",
    "#mnistのデータを取得する関数を定義\n",
    "#load_mnistの引数はそれぞれ、\n",
    "#normalize:色の濃さを数値を0~1に規格化するか\n",
    "#flatten:各手書き画像のデータを１次元の配列にするか\n",
    "#one_hot_label:ラベルを0~9の数値ではなく,[0,1,0,0,0,0,0,0,0,0]のようなone-hotにするか\n",
    "def get_data():\n",
    "    (x_train, t_train), (x_test, t_test) = load_mnist(normalize=True, flatten=True, one_hot_label=False)\n",
    "    return x_test, t_test\n",
    "\n",
    "#ニューラルネットワークに入力データを入れて計算する関数を定義\n",
    "def predict(network, x):\n",
    "    W1, W2, W3 = network['W1'], network['W2'], network['W3']\n",
    "    b1, b2, b3 = network['b1'], network['b2'], network['b3']\n",
    "\n",
    "    a1 = np.dot(x, W1) + b1\n",
    "    z1 = sigmoid(a1)\n",
    "    a2 = np.dot(z1, W2) + b2\n",
    "    z2 = sigmoid(a2)\n",
    "    a3 = np.dot(z2, W3) + b3\n",
    "    y = softmax(a3)\n",
    "\n",
    "    return y\n",
    "\n",
    "#実際にOCRの計算を実行する\n",
    "#x(テストデータ),t(正解ラベル)にMNISTのデータを入れる\n",
    "x, t = get_data()\n",
    "#networkに既にパラメータが調整されたニューラルネットワークを入れる（ローカルフォルダから取得）\n",
    "network = pickle.load(open(\"sample_weight.pkl\",'rb'))\n",
    "\n",
    "#for文でひとつずつ計算する\n",
    "#結果が正解ラベルと一致したらaccuracy_cntを足していき正答率をカウントする\n",
    "accuracy_cnt = 0\n",
    "for i in range(len(x)):\n",
    "    y = predict(network, x[i])\n",
    "    p= np.argmax(y) # 最も確率の高い要素のインデックスを取得\n",
    "    if p == t[i]:\n",
    "        accuracy_cnt += 1\n",
    "        \n",
    "#正答率（Accuracy）を出力\n",
    "print(\"Accuracy:\" + str(float(accuracy_cnt) / len(x)))"
   ]
  },
  {
   "cell_type": "code",
   "execution_count": 91,
   "metadata": {},
   "outputs": [
    {
     "name": "stdout",
     "output_type": "stream",
     "text": [
      "Accuracy:0.9352\n"
     ]
    }
   ],
   "source": [
    "x, t = get_data()\n",
    "network = pickle.load(open(\"sample_weight.pkl\", 'rb'))\n",
    "\n",
    "batch_size = 100 # バッチの数\n",
    "accuracy_cnt = 0\n",
    "\n",
    "for i in range(0, len(x), batch_size):\n",
    "    x_batch = x[i:i+batch_size]\n",
    "    y_batch = predict(network, x_batch)\n",
    "    p = np.argmax(y_batch, axis=1)\n",
    "    accuracy_cnt += np.sum(p == t[i:i+batch_size])\n",
    "\n",
    "print(\"Accuracy:\" + str(float(accuracy_cnt) / len(x)))"
   ]
  },
  {
   "cell_type": "code",
   "execution_count": null,
   "metadata": {},
   "outputs": [],
   "source": []
  }
 ],
 "metadata": {
  "kernelspec": {
   "display_name": "Python 3",
   "language": "python",
   "name": "python3"
  },
  "language_info": {
   "codemirror_mode": {
    "name": "ipython",
    "version": 3
   },
   "file_extension": ".py",
   "mimetype": "text/x-python",
   "name": "python",
   "nbconvert_exporter": "python",
   "pygments_lexer": "ipython3",
   "version": "3.5.4"
  }
 },
 "nbformat": 4,
 "nbformat_minor": 4
}
